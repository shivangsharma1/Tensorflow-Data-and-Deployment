{
  "nbformat": 4,
  "nbformat_minor": 0,
  "metadata": {
    "colab": {
      "name": "TFDS_Week1_Exercise.ipynb",
      "provenance": [],
      "collapsed_sections": [],
      "toc_visible": true
    },
    "kernelspec": {
      "display_name": "Python 3",
      "language": "python",
      "name": "python3"
    },
    "language_info": {
      "codemirror_mode": {
        "name": "ipython",
        "version": 3
      },
      "file_extension": ".py",
      "mimetype": "text/x-python",
      "name": "python",
      "nbconvert_exporter": "python",
      "pygments_lexer": "ipython3",
      "version": "3.7.4"
    }
  },
  "cells": [
    {
      "cell_type": "code",
      "metadata": {
        "id": "zX4Kg8DUTKWO",
        "colab_type": "code",
        "colab": {}
      },
      "source": [
        "#@title Licensed under the Apache License, Version 2.0 (the \"License\");\n",
        "# you may not use this file except in compliance with the License.\n",
        "# You may obtain a copy of the License at\n",
        "#\n",
        "# https://www.apache.org/licenses/LICENSE-2.0\n",
        "#\n",
        "# Unless required by applicable law or agreed to in writing, software\n",
        "# distributed under the License is distributed on an \"AS IS\" BASIS,\n",
        "# WITHOUT WARRANTIES OR CONDITIONS OF ANY KIND, either express or implied.\n",
        "# See the License for the specific language governing permissions and\n",
        "# limitations under the License."
      ],
      "execution_count": 0,
      "outputs": []
    },
    {
      "cell_type": "markdown",
      "metadata": {
        "id": "zLYVtyNslcZJ",
        "colab_type": "text"
      },
      "source": [
        "# TFDS and Rock, Paper, Scissors"
      ]
    },
    {
      "cell_type": "markdown",
      "metadata": {
        "id": "p-sYU-C3lcZO",
        "colab_type": "text"
      },
      "source": [
        "<table class=\"tfo-notebook-buttons\" align=\"left\">\n",
        "  <td>\n",
        "    <a target=\"_blank\" href=\"https://colab.research.google.com/github/lmoroney/dlaicourse/blob/master/TensorFlow%20Deployment/Course%203%20-%20TensorFlow%20Datasets/Week%201/Exercises/TFDS_Week1_Exercise.ipynb\">\n",
        "    <img src=\"https://www.tensorflow.org/images/colab_logo_32px.png\" />\n",
        "    Run in Google Colab</a>\n",
        "  </td>\n",
        "  <td>\n",
        "    <a target=\"_blank\" href=\"https://github.com/lmoroney/dlaicourse/blob/master/TensorFlow%20Deployment/Course%203%20-%20TensorFlow%20Datasets/Week%201/Exercises/TFDS_Week1_Exercise.ipynb\">\n",
        "    <img src=\"https://www.tensorflow.org/images/GitHub-Mark-32px.png\" />\n",
        "    View source on GitHub</a>\n",
        "  </td>\n",
        "</table>"
      ]
    },
    {
      "cell_type": "markdown",
      "metadata": {
        "id": "8FeE3Sl3lcZP",
        "colab_type": "text"
      },
      "source": [
        "In this week's exercise you will be working with TFDS and the rock-paper-scissors dataset. You'll do a few tasks such as exploring the info of the dataset in order to figure out the name of the splits. You'll also write code to see if the dataset supports the new S3 API before creating your own versions of the dataset."
      ]
    },
    {
      "cell_type": "markdown",
      "metadata": {
        "id": "Zps6-m-4lcZQ",
        "colab_type": "text"
      },
      "source": [
        "## Setup"
      ]
    },
    {
      "cell_type": "code",
      "metadata": {
        "id": "jto2Pa1LlcZS",
        "colab_type": "code",
        "colab": {}
      },
      "source": [
        "try:\n",
        "    %tensorflow_version 2.x\n",
        "except:\n",
        "    pass"
      ],
      "execution_count": 0,
      "outputs": []
    },
    {
      "cell_type": "code",
      "metadata": {
        "colab_type": "code",
        "id": "TTBSvHcSLBzc",
        "colab": {
          "base_uri": "https://localhost:8080/",
          "height": 35
        },
        "outputId": "c6a51417-298f-4b67-b8b1-ef88dfb72557"
      },
      "source": [
        "# Use all imports\n",
        "import tensorflow as tf\n",
        "import tensorflow_datasets as tfds\n",
        "\n",
        "print(\"\\u2022 Using TensorFlow Version:\", tf.__version__)"
      ],
      "execution_count": 2,
      "outputs": [
        {
          "output_type": "stream",
          "text": [
            "• Using TensorFlow Version: 2.2.0-rc3\n"
          ],
          "name": "stdout"
        }
      ]
    },
    {
      "cell_type": "markdown",
      "metadata": {
        "id": "Emde9avNlcZf",
        "colab_type": "text"
      },
      "source": [
        "## Extract the Rock, Paper, Scissors Dataset\n",
        "\n",
        "In the cell below, you will extract the `rock_paper_scissors` dataset and then print its info. Take note of the splits, what they're called, and their size."
      ]
    },
    {
      "cell_type": "code",
      "metadata": {
        "colab_type": "code",
        "id": "KGsVrzy84WI2",
        "colab": {
          "base_uri": "https://localhost:8080/",
          "height": 532
        },
        "outputId": "6adee759-04f5-41f2-9cbd-3cf612f38fc5"
      },
      "source": [
        "# EXERCISE: Use tfds.load to extract the rock_paper_scissors dataset.\n",
        "\n",
        "data, info = tfds.load(\"rock_paper_scissors\", with_info=True)# YOUR CODE HERE\n",
        "print(info)"
      ],
      "execution_count": 7,
      "outputs": [
        {
          "output_type": "stream",
          "text": [
            "tfds.core.DatasetInfo(\n",
            "    name='rock_paper_scissors',\n",
            "    version=3.0.0,\n",
            "    description='Images of hands playing rock, paper, scissor game.',\n",
            "    homepage='http://laurencemoroney.com/rock-paper-scissors-dataset',\n",
            "    features=FeaturesDict({\n",
            "        'image': Image(shape=(300, 300, 3), dtype=tf.uint8),\n",
            "        'label': ClassLabel(shape=(), dtype=tf.int64, num_classes=3),\n",
            "    }),\n",
            "    total_num_examples=2892,\n",
            "    splits={\n",
            "        'test': 372,\n",
            "        'train': 2520,\n",
            "    },\n",
            "    supervised_keys=('image', 'label'),\n",
            "    citation=\"\"\"@ONLINE {rps,\n",
            "    author = \"Laurence Moroney\",\n",
            "    title = \"Rock, Paper, Scissors Dataset\",\n",
            "    month = \"feb\",\n",
            "    year = \"2019\",\n",
            "    url = \"http://laurencemoroney.com/rock-paper-scissors-dataset\"\n",
            "    }\"\"\",\n",
            "    redistribution_info=,\n",
            ")\n",
            "\n"
          ],
          "name": "stdout"
        }
      ]
    },
    {
      "cell_type": "code",
      "metadata": {
        "colab_type": "code",
        "id": "epPGTUqE5Z2E",
        "colab": {
          "base_uri": "https://localhost:8080/",
          "height": 58
        },
        "outputId": "46bda61a-1834-4a24-d1a0-8458fa9550a2"
      },
      "source": [
        "# EXERCISE: In the space below, write code that iterates through the splits\n",
        "# without hardcoding any keys. The code should extract 'test' and 'train' as\n",
        "# the keys, and then print out the number of items in the dataset for each key. \n",
        "# HINT: num_examples property is very useful here.\n",
        "\n",
        "for set in data:# YOUR CODE HERE\n",
        "  print(set,\":\", info.splits[set].num_examples)# YOUR CODE HERE\n",
        "\n",
        "# EXPECTED OUTPUT\n",
        "# test:372\n",
        "# train:2520"
      ],
      "execution_count": 18,
      "outputs": [
        {
          "output_type": "stream",
          "text": [
            "test : 372\n",
            "train : 2520\n"
          ],
          "name": "stdout"
        }
      ]
    },
    {
      "cell_type": "markdown",
      "metadata": {
        "id": "RibL2obdlcZs",
        "colab_type": "text"
      },
      "source": [
        "## Use the New S3 API\n",
        "\n",
        "Before using the new S3 API, you must first find out whether the `rock_paper_scissors` dataset implements the new S3 API. In the cell below you should use version `3.*.*` of the `rock_paper_scissors` dataset."
      ]
    },
    {
      "cell_type": "code",
      "metadata": {
        "colab_type": "code",
        "id": "Ms5ld5Ov6_OP",
        "colab": {
          "base_uri": "https://localhost:8080/",
          "height": 35
        },
        "outputId": "b7eaeb9e-ed12-4f48-f86f-37f731bc28b0"
      },
      "source": [
        "# EXERCISE: In the space below, use the tfds.builder to fetch the\n",
        "# rock_paper_scissors dataset and check to see if it supports the\n",
        "# new S3 API. \n",
        "# HINT: The builder should 'implement' something\n",
        "\n",
        "rps_builder =tfds.builder(\"rock_paper_scissors:3.*.*\") # YOUR CODE HERE (Include the following arguments in your code: \"rock_paper_scissors:3.*.*\")\n",
        "\n",
        "print(rps_builder.version.implements(tfds.core.Experiment.S3))\n",
        "\n",
        "# Expected output:\n",
        "# True"
      ],
      "execution_count": 19,
      "outputs": [
        {
          "output_type": "stream",
          "text": [
            "True\n"
          ],
          "name": "stdout"
        }
      ]
    },
    {
      "cell_type": "markdown",
      "metadata": {
        "id": "727rSAGZlcZy",
        "colab_type": "text"
      },
      "source": [
        "## Create New Datasets with the S3 API\n",
        "\n",
        "Sometimes datasets are too big for prototyping. In the cell below, you will create a smaller dataset, where instead of using all of the training data and all of the test data, you instead have a `small_train` and `small_test` each of which are comprised of the first 10% of the records in their respective datasets."
      ]
    },
    {
      "cell_type": "code",
      "metadata": {
        "colab_type": "code",
        "id": "QMGkJW6j7Ldl",
        "colab": {}
      },
      "source": [
        "# EXERCISE: In the space below, create two small datasets, `small_train`\n",
        "# and `small_test`, each of which are comprised of the first 10% of the\n",
        "# records in their respective datasets.\n",
        "\n",
        "# YOUR CODE HERE (Include the following arguments in your code: \"rock_paper_scissors:3.*.*\")\n",
        "small_train = tfds.load(\"rock_paper_scissors:3.*.*\", split='train[:10%]')\n",
        "\n",
        "# YOUR CODE HERE (Include the following arguments in your code: \"rock_paper_scissors:3.*.*\")\n",
        "small_test = tfds.load(\"rock_paper_scissors:3.*.*\", split='test[:10%]')\n",
        "\n",
        "# No expected output yet, that's in the next cell"
      ],
      "execution_count": 0,
      "outputs": []
    },
    {
      "cell_type": "code",
      "metadata": {
        "colab_type": "code",
        "id": "SOm99-zO_nAe",
        "colab": {
          "base_uri": "https://localhost:8080/",
          "height": 58
        },
        "outputId": "1705a385-9d0f-494e-f713-b5b8be6bc0c8"
      },
      "source": [
        "# EXERCISE: Print out the size (length) of the small versions of the datasets.\n",
        "# YOUR CODE HERE)\n",
        "print(len(list(small_train)))\n",
        "\n",
        "# YOUR CODE HERE)\n",
        "print(len(list(small_test)))\n",
        "\n",
        "# Expected output\n",
        "# 252\n",
        "# 37"
      ],
      "execution_count": 24,
      "outputs": [
        {
          "output_type": "stream",
          "text": [
            "252\n",
            "37\n"
          ],
          "name": "stdout"
        }
      ]
    },
    {
      "cell_type": "markdown",
      "metadata": {
        "id": "vGWwAhBDlcZ-",
        "colab_type": "text"
      },
      "source": [
        "The original dataset doesn't have a validation set, just training and testing sets. In the cell below, you will use TFDS to create new datasets according to these rules:\n",
        "\n",
        "* `new_train`: The new training set should be the first 90% of the original training set.\n",
        "\n",
        "\n",
        "* `new_test`: The new test set should be the first 90% of the original test set.\n",
        "\n",
        "\n",
        "* `validation`: The new validation set should be the last 10% of the original training set + the last 10% of the original test set."
      ]
    },
    {
      "cell_type": "code",
      "metadata": {
        "colab_type": "code",
        "id": "jL7KXYi17s_1",
        "colab": {
          "base_uri": "https://localhost:8080/",
          "height": 79
        },
        "outputId": "43aa5a26-ef69-4122-ec90-ac50c6ef36df"
      },
      "source": [
        "# EXERCISE: In the space below, create 3 new datasets according to\n",
        "# the rules indicated above.\n",
        "\n",
        "# YOUR CODE HERE (Include the following arguments in your code: \"rock_paper_scissors:3.*.*\")\n",
        "new_train = tfds.load(\"rock_paper_scissors:3.*.*\", split='train[:90%]')\n",
        "print(len(list(new_train)))\n",
        "\n",
        "# YOUR CODE HERE (Include the following arguments in your code: \"rock_paper_scissors:3.*.*\")\n",
        "\n",
        "new_test = tfds.load(\"rock_paper_scissors:3.*.*\", split='test[:90%]')\n",
        "print(len(list(new_test)))\n",
        "\n",
        "# YOUR CODE HERE (Include the following arguments in your code: \"rock_paper_scissors:3.*.*\")\n",
        "validation = tfds.load(\"rock_paper_scissors:3.*.*\", split='train[90%:] + test[90%:]')\n",
        "print(len(list(validation)))\n",
        "\n",
        "# Expected output\n",
        "# 2268\n",
        "# 335\n",
        "# 289"
      ],
      "execution_count": 27,
      "outputs": [
        {
          "output_type": "stream",
          "text": [
            "2268\n",
            "335\n",
            "289\n"
          ],
          "name": "stdout"
        }
      ]
    },
    {
      "cell_type": "code",
      "metadata": {
        "id": "M2ThJhKItB42",
        "colab_type": "code",
        "colab": {}
      },
      "source": [
        ""
      ],
      "execution_count": 0,
      "outputs": []
    }
  ]
}